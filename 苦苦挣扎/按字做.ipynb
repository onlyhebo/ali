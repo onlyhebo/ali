{
 "cells": [
  {
   "cell_type": "code",
   "execution_count": 4,
   "metadata": {},
   "outputs": [
    {
     "name": "stderr",
     "output_type": "stream",
     "text": [
      "c:\\python3\\lib\\site-packages\\sklearn\\cross_validation.py:41: DeprecationWarning: This module was deprecated in version 0.18 in favor of the model_selection module into which all the refactored classes and functions are moved. Also note that the interface of the new CV iterators are different from that of this module. This module will be removed in 0.20.\n",
      "  \"This module will be removed in 0.20.\", DeprecationWarning)\n"
     ]
    }
   ],
   "source": [
    "import numpy as np\n",
    "import pandas as pd \n",
    "import jieba \n",
    "from sklearn.feature_extraction.text import TfidfVectorizer,CountVectorizer\n",
    "from sklearn.cross_validation import train_test_split\n",
    "from sklearn.linear_model import LogisticRegression\n",
    "from collections import Counter\n",
    "from math import isnan\n",
    "from sklearn.feature_extraction.text import TfidfTransformer\n",
    "import copy"
   ]
  },
  {
   "cell_type": "code",
   "execution_count": 5,
   "metadata": {},
   "outputs": [
    {
     "name": "stderr",
     "output_type": "stream",
     "text": [
      "Building prefix dict from the default dictionary ...\n",
      "Loading model from cache C:\\Users\\hebo\\AppData\\Local\\Temp\\jieba.cache\n",
      "Loading model cost 0.791 seconds.\n",
      "Prefix dict has been built succesfully.\n"
     ]
    }
   ],
   "source": [
    "txt = pd.read_excel('数据比较好的.xlsx')\n",
    "Y = txt['标签']\n",
    "jieba.load_userdict(Y)\n",
    "stopwords = [line.strip() for line in open('../input/stopword.txt', 'r', encoding='utf-8').readlines()] "
   ]
  },
  {
   "cell_type": "code",
   "execution_count": 6,
   "metadata": {
    "scrolled": true
   },
   "outputs": [],
   "source": [
    "list_des = txt['商品描述'].tolist()\n",
    "X = []\n",
    "for i in range(len(list_des)):\n",
    "    des = list_des[i].replace(' ','')\n",
    "    seg_list = jieba.lcut(des)\n",
    "    word_list = [] \n",
    "    for seg in seg_list:\n",
    "        if seg not in stopwords:\n",
    "            word_list.append(seg)\n",
    "    X.append((' ').join(word_list))"
   ]
  },
  {
   "cell_type": "code",
   "execution_count": 7,
   "metadata": {},
   "outputs": [],
   "source": [
    "txt['商品描述'] = pd.Series(X)"
   ]
  },
  {
   "cell_type": "code",
   "execution_count": 8,
   "metadata": {},
   "outputs": [],
   "source": [
    "frame = pd.DataFrame(columns=['商品描述','标签'])\n",
    "dic = Counter(Y)\n",
    "for i in dic.keys():\n",
    "    data = txt.loc[txt['标签'] == i]\n",
    "    if dic[i] > 200:\n",
    "        frame = pd.concat([frame,data[:200]],axis = 0)\n",
    "        continue\n",
    "    else:\n",
    "        frame = pd.concat([frame,txt.loc[txt['标签'] == i]],axis = 0)\n",
    "frame = frame.reset_index(drop=True)"
   ]
  },
  {
   "cell_type": "code",
   "execution_count": 9,
   "metadata": {},
   "outputs": [],
   "source": [
    "vectorizer = CountVectorizer()\n",
    "fre_matrix = vectorizer.fit_transform(frame['商品描述'])"
   ]
  },
  {
   "cell_type": "code",
   "execution_count": 10,
   "metadata": {},
   "outputs": [],
   "source": [
    "fre_sum = np.array(fre_matrix.sum(axis = 0))[0]\n",
    "words_bag =vectorizer.get_feature_names()\n",
    "all_words = fre_sum.sum()\n",
    "tf = [i/float(all_words) for i in fre_sum]"
   ]
  },
  {
   "cell_type": "code",
   "execution_count": 11,
   "metadata": {},
   "outputs": [],
   "source": [
    "idf = [np.log(float(fre_matrix.shape[0]) / i)  for i in fre_sum]"
   ]
  },
  {
   "cell_type": "code",
   "execution_count": 12,
   "metadata": {},
   "outputs": [],
   "source": [
    "tf_idf = np.array(tf)*np.array(idf)"
   ]
  },
  {
   "cell_type": "code",
   "execution_count": 13,
   "metadata": {},
   "outputs": [],
   "source": [
    "from scipy.sparse import csr_matrix\n",
    "a = csr_matrix((fre_matrix.shape[0],fre_matrix.shape[1]),dtype=float)"
   ]
  },
  {
   "cell_type": "code",
   "execution_count": 14,
   "metadata": {
    "scrolled": false
   },
   "outputs": [
    {
     "name": "stderr",
     "output_type": "stream",
     "text": [
      "c:\\python3\\lib\\site-packages\\scipy\\sparse\\compressed.py:742: SparseEfficiencyWarning: Changing the sparsity structure of a csr_matrix is expensive. lil_matrix is more efficient.\n",
      "  SparseEfficiencyWarning)\n"
     ]
    }
   ],
   "source": [
    "for i in range(fre_matrix.shape[0]):\n",
    "    a[i] = csr_matrix(fre_matrix[i].toarray()*tf_idf)"
   ]
  },
  {
   "cell_type": "code",
   "execution_count": 16,
   "metadata": {},
   "outputs": [],
   "source": [
    "X_train,X_test,Y_train,Y_test = train_test_split(a,frame['标签'],test_size = 0.2)\n",
    "classifier = LogisticRegression(random_state = 0)"
   ]
  },
  {
   "cell_type": "code",
   "execution_count": 17,
   "metadata": {
    "scrolled": true
   },
   "outputs": [
    {
     "name": "stdout",
     "output_type": "stream",
     "text": [
      "0.005531153408166585\n"
     ]
    }
   ],
   "source": [
    "classifier.fit(X_train, Y_train)# coding:utf-8\n",
    "y_pred = classifier.predict(X_test)\n",
    "print(np.mean(y_pred == Y_test))"
   ]
  },
  {
   "cell_type": "code",
   "execution_count": 24,
   "metadata": {},
   "outputs": [],
   "source": [
    "feature_names  = vectorizer.get_feature_names()"
   ]
  },
  {
   "cell_type": "code",
   "execution_count": 25,
   "metadata": {
    "collapsed": true
   },
   "outputs": [
    {
     "name": "stdout",
     "output_type": "stream",
     "text": [
      "----Document 0----\n",
      "logo 0.0005770291428247217\n",
      "刻印 6.364691247389026e-05\n",
      "厨房 0.005837486091411055\n",
      "围裙 0.003028390742976692\n",
      "女士 0.00734462200197371\n",
      "广告 0.0032974997346026805\n",
      "新款 0.021957062024338905\n",
      "时尚 0.012627436292519504\n",
      "直销 0.0008959494109441216\n",
      "纯色 0.007124123230560209\n",
      "艾米 7.771703594993074e-05\n",
      "----Document 1----\n",
      "做饭 0.00011814095051809683\n",
      "包邮 0.015139737822755035\n",
      "厨房 0.005837486091411055\n",
      "咖啡店 0.0002651037716513046\n",
      "围腰 0.00016918029330438352\n",
      "围裙 0.001514195371488346\n",
      "奶茶 0.001380826038898792\n",
      "定制 0.013641883892575592\n",
      "家居 0.0034894044402542404\n",
      "工作服 0.0017171465188728606\n",
      "时尚 0.012627436292519504\n",
      "牛仔 0.0026782932960412913\n",
      "男女 0.01055259339851312\n",
      "韩版 0.014282721390212654\n",
      "----Document 2----\n",
      "咖啡店 0.0002651037716513046\n",
      "围裙 0.001514195371488346\n",
      "定制 0.013641883892575592\n",
      "工作服 0.0017171465188728606\n",
      "时尚 0.012627436292519504\n",
      "牛仔 0.0026782932960412913\n",
      "真皮 0.005766114184303441\n",
      "绘画 0.0008959494109441216\n",
      "西餐厅 0.0006272492252145053\n",
      "酒吧 0.003074842531236987\n",
      "韩版 0.014282721390212654\n",
      "----Document 3----\n",
      "加厚 0.009604912342048856\n",
      "北欧 0.007012755115526015\n",
      "厨房 0.005837486091411055\n",
      "咖啡馆 0.00031090196331971597\n",
      "围裙 0.001514195371488346\n",
      "女士 0.00734462200197371\n",
      "工作服 0.0017171465188728606\n",
      "文艺 0.0035156125174205205\n",
      "棉麻 0.003619834843854542\n",
      "烘焙 0.002338211020473037\n",
      "烹饪 0.00011814095051809683\n",
      "简约 0.0161103902119375\n",
      "纯棉 0.008022755915890144\n",
      "----Document 4----\n",
      "原创 0.003983631179141749\n",
      "双面 0.0023676692609574707\n",
      "咖啡师 7.771703594993074e-05\n",
      "园艺 0.0001938148315185539\n",
      "围裙 0.004542586114465038\n",
      "工作 0.0017091455839098474\n",
      "彩色 0.00561120711373353\n",
      "烘焙 0.002338211020473037\n",
      "纯棉 0.008022755915890144\n",
      "花艺 0.0006072570716746366\n",
      "设计 0.004355030498945512\n",
      "餐厅 0.0041024585049961575\n",
      "----Document 5----\n",
      "包邮 0.015139737822755035\n",
      "厨房 0.005837486091411055\n",
      "可爱 0.008985938076772683\n",
      "咖啡店 0.0002651037716513046\n",
      "围裙 0.001514195371488346\n",
      "奶茶 0.001380826038898792\n",
      "定制 0.013641883892575592\n",
      "工作服 0.0017171465188728606\n",
      "时尚 0.012627436292519504\n",
      "男士 0.008227216943263687\n",
      "纯棉 0.008022755915890144\n",
      "韩版 0.014282721390212654\n",
      "----Document 6----\n",
      "印字 0.0014060574776390477\n",
      "咖啡厅 0.0017011353234688692\n",
      "围裙 0.001514195371488346\n",
      "奶茶 0.001380826038898792\n",
      "定制 0.013641883892575592\n",
      "工作服 0.0017171465188728606\n",
      "广告 0.0032974997346026805\n",
      "服务员 0.00032217169135197036\n",
      "火锅店 0.00020595055270318315\n",
      "美甲 0.003081660299530237\n",
      "超市 0.003920616479430405\n",
      "韩版 0.014282721390212654\n",
      "----Document 7----\n",
      "半身 0.0006962866325676116\n",
      "厨师 0.0008021432252554243\n",
      "厨房 0.005837486091411055\n",
      "围腰 0.00016918029330438352\n",
      "围裙 0.003028390742976692\n",
      "工作 0.0017091455839098474\n",
      "服务员 0.00032217169135197036\n",
      "酒吧 0.003074842531236987\n",
      "酒店 0.0042201418787514424\n",
      "餐厅 0.0041024585049961575\n",
      "----Document 8----\n",
      "半截 0.00036661467869146346\n",
      "半身 0.0006962866325676116\n",
      "厨师 0.0008021432252554243\n",
      "厨房 0.005837486091411055\n",
      "咖啡厅 0.0017011353234688692\n",
      "围腰 0.00016918029330438352\n",
      "围裙 0.003028390742976692\n",
      "定制 0.013641883892575592\n",
      "工作服 0.0017171465188728606\n",
      "服务员 0.00032217169135197036\n",
      "男款 0.0011132618559556047\n",
      "酒店 0.0042201418787514424\n",
      "----Document 9----\n",
      "加大 0.0031020864462966966\n",
      "加长 0.002448166128580918\n",
      "围裙 0.003028390742976692\n",
      "无袖 0.003033839989965889\n",
      "时尚 0.012627436292519504\n",
      "防水 0.022918629402711336\n",
      "防油 0.0005770291428247217\n",
      "雨衣 0.0010419355738858183\n",
      "面料 0.0022789870248022\n",
      "韩版 0.014282721390212654\n",
      "----Document 10----\n",
      "包邮 0.015139737822755035\n",
      "厨房 0.005837486091411055\n",
      "可爱 0.008985938076772683\n",
      "围腰 0.00016918029330438352\n",
      "围裙 0.001514195371488346\n",
      "定制 0.013641883892575592\n",
      "工作服 0.0017171465188728606\n",
      "时尚 0.012627436292519504\n",
      "服务员 0.00032217169135197036\n",
      "男女 0.01055259339851312\n",
      "美甲 0.003081660299530237\n",
      "防水 0.011459314701355668\n",
      "韩版 0.014282721390212654\n",
      "餐厅 0.0041024585049961575\n",
      "----Document 11----\n",
      "可爱 0.008985938076772683\n",
      "围裙 0.003028390742976692\n",
      "奶茶 0.001380826038898792\n",
      "定做 0.007443888224249042\n",
      "工作服 0.0017171465188728606\n",
      "时尚 0.012627436292519504\n",
      "服务员 0.00032217169135197036\n",
      "母婴 0.0002651037716513046\n",
      "美容 0.0017171465188728606\n",
      "美甲 0.003081660299530237\n",
      "韩版 0.014282721390212654\n",
      "----Document 12----\n",
      "咖啡师 7.771703594993074e-05\n",
      "围裙 0.003028390742976692\n",
      "定制 0.027283767785151184\n",
      "家居 0.0034894044402542404\n",
      "工作 0.0017091455839098474\n",
      "时尚 0.012627436292519504\n",
      "烘焙 0.002338211020473037\n",
      "牛仔 0.0026782932960412913\n",
      "皮带 0.00186745880620037\n",
      "西餐厅 0.0006272492252145053\n",
      "韩版 0.014282721390212654\n",
      "----Document 13----\n",
      "全新 0.003047525860949762\n",
      "咖啡厅 0.0017011353234688692\n",
      "围裙 0.003028390742976692\n",
      "日式 0.003926932934988943\n",
      "日本 0.010101787458593166\n",
      "时尚 0.012627436292519504\n",
      "简约 0.0161103902119375\n",
      "美容美发 0.0002179761521768263\n",
      "西餐厅 0.0006272492252145053\n",
      "韩版 0.014282721390212654\n",
      "高档 0.004892594873139118\n",
      "----Document 14----\n",
      "厨师 0.0008021432252554243\n",
      "厨房 0.005837486091411055\n",
      "咖啡厅 0.0017011353234688692\n",
      "围裙 0.004542586114465038\n",
      "多色 0.0018517842208191184\n",
      "居家 0.0022938319649230994\n",
      "情侣 0.005549898923771717\n",
      "时尚 0.012627436292519504\n",
      "美甲店 0.0003445155638074351\n",
      "韩版 0.014282721390212654\n",
      "----Document 15----\n",
      "一次性 0.004052567803467003\n",
      "作图 1.8199946725893484e-05\n",
      "儿童 0.015593784130370623\n",
      "印花 0.0057881113762157455\n",
      "围兜 0.0003445155638074351\n",
      "围巾 0.002129054834955437\n",
      "围脖 0.0004101440799176537\n",
      "围腰 0.00016918029330438352\n",
      "围裙 0.001514195371488346\n",
      "定制 0.013641883892575592\n",
      "广告 0.0032974997346026805\n",
      "成人 0.006931279461327073\n",
      "无纺布 0.0013554861578605397\n",
      "----Document 16----\n",
      "儿童 0.015593784130370623\n",
      "围裙 0.003028390742976692\n",
      "学校 0.0004948831869241897\n",
      "定制 0.013641883892575592\n",
      "幼儿园 0.0033706904683776153\n",
      "烘焙 0.002338211020473037\n",
      "画画 0.0005052829401451563\n",
      "绘画 0.0008959494109441216\n",
      "美术馆 3.411167484436605e-05\n",
      "----Document 17----\n",
      "半截 0.00036661467869146346\n",
      "半身 0.0006962866325676116\n",
      "厨师 0.0008021432252554243\n",
      "厨房 0.005837486091411055\n",
      "围腰 0.00016918029330438352\n",
      "围裙 0.004542586114465038\n",
      "定制 0.013641883892575592\n",
      "工作服 0.0017171465188728606\n",
      "酒店 0.0042201418787514424\n",
      "防油 0.0005770291428247217\n",
      "餐厅 0.0041024585049961575\n",
      "----Document 18----\n",
      "制服 0.0014562042271808035\n",
      "华达 4.915972914835864e-05\n",
      "围裙 0.001514195371488346\n",
      "工装 0.0007543984022788706\n",
      "布料 0.0020759153681722898\n",
      "手工 0.009415655201832376\n",
      "服装 0.007942109510750556\n",
      "西装 0.001201025356305027\n",
      "面料 0.0022789870248022\n",
      "----Document 19----\n",
      "围裙 0.001514195371488346\n",
      "定制 0.013641883892575592\n",
      "工作 0.0017091455839098474\n",
      "生活馆 1.8199946725893484e-05\n",
      "链接 0.0005259654495937378\n"
     ]
    }
   ],
   "source": [
    "length = (fre_matrix.shape)[1]\n",
    "for i in range(20):\n",
    "    print('----Document %d----' % (i))\n",
    "    for j in range(length):\n",
    "        if a[i,j] != 0:\n",
    "              print( feature_names[j], a[i,j])"
   ]
  },
  {
   "cell_type": "code",
   "execution_count": null,
   "metadata": {},
   "outputs": [],
   "source": []
  }
 ],
 "metadata": {
  "kernelspec": {
   "display_name": "Python 3",
   "language": "python",
   "name": "python3"
  },
  "language_info": {
   "codemirror_mode": {
    "name": "ipython",
    "version": 3
   },
   "file_extension": ".py",
   "mimetype": "text/x-python",
   "name": "python",
   "nbconvert_exporter": "python",
   "pygments_lexer": "ipython3",
   "version": "3.6.5"
  }
 },
 "nbformat": 4,
 "nbformat_minor": 2
}
