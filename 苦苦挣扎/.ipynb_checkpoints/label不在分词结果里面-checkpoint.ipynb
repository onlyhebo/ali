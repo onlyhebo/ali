{
 "cells": [
  {
   "cell_type": "code",
   "execution_count": null,
   "metadata": {},
   "outputs": [],
   "source": [
    "import numpy as np\n",
    "import pandas as pd \n",
    "import jieba \n",
    "from sklearn.feature_extraction.text import TfidfVectorizer,CountVectorizer\n",
    "from sklearn.cross_validation import train_test_split\n",
    "from sklearn.linear_model import LogisticRegression\n",
    "from collections import Counter"
   ]
  },
  {
   "cell_type": "code",
   "execution_count": null,
   "metadata": {},
   "outputs": [],
   "source": [
    "txt = pd.read_excel('数据比较好的.xlsx')\n",
    "Y = txt['标签']"
   ]
  },
  {
   "cell_type": "code",
   "execution_count": null,
   "metadata": {
    "scrolled": true
   },
   "outputs": [],
   "source": [
    "list_des = txt['商品描述'].tolist()\n",
    "X = []\n",
    "with open('分词拿去做word2vect.txt','w',encoding = 'utf8') as file:\n",
    "    for i in range(len(list_des)):\n",
    "        des = list_des[i].replace(' ','')\n",
    "        X.append((' ').join(jieba.lcut(des)))\n",
    "        file.write((' ').join(jieba.lcut(des)) +'\\n')"
   ]
  },
  {
   "cell_type": "code",
   "execution_count": null,
   "metadata": {},
   "outputs": [],
   "source": [
    "txt['商品描述'] = pd.Series(X)"
   ]
  },
  {
   "cell_type": "code",
   "execution_count": null,
   "metadata": {},
   "outputs": [],
   "source": [
    "frame = pd.DataFrame(columns=['商品描述','标签'])\n",
    "dic = Counter(Y)\n",
    "for i in dic.keys():\n",
    "    data = txt.loc[txt['标签'] == i]\n",
    "    if dic[i] > 100:\n",
    "        frame = pd.concat([frame,data[:100]],axis = 0)\n",
    "        continue\n",
    "    if dic[i] < 10:\n",
    "        frame_1 = pd.concat([data,data,data],axis = 0)\n",
    "        frame = pd.concat([frame,frame_1],axis = 0)\n",
    "    else:\n",
    "        frame = pd.concat([frame,txt.loc[txt['标签'] == i]],axis = 0)"
   ]
  },
  {
   "cell_type": "code",
   "execution_count": null,
   "metadata": {
    "scrolled": true
   },
   "outputs": [],
   "source": [
    "def LR_countVector(X,Y):\n",
    "    vectorizer = CountVectorizer()\n",
    "    X_train,X_test,Y_train,Y_test = train_test_split(X,Y,test_size = 0.2)\n",
    "    X_train_1 = vectorizer.fit_transform(X_train + X_test)\n",
    "    classifier = LogisticRegression(random_state = 0)\n",
    "    classifier.fit(X_train_1[:len(X_train)], Y_train)# coding:utf-8\n",
    "    y_pred = classifier.predict(X_train_1[len(X_train):])\n",
    "    p = np.mean(y_pred == Y_test)\n",
    "    print(p)\n",
    "    return X_test,y_pred,Y_test\n",
    "def LR_Tfidf(X,Y):\n",
    "    tfidfVecorizer  = TfidfVectorizer()\n",
    "    tfidf = tfidfVecorizer.fit_transform(X)\n",
    "    X_train,X_test,Y_train,Y_test = train_test_split(tfidf,Y,test_size = 0.2)\n",
    "    clf = LogisticRegression()\n",
    "    clf.fit(X_train,Y_train)\n",
    "    pre = clf.predict(X_test)\n",
    "    print(np.mean(pre == Y_test))\n",
    "    return pre,Y_test\n",
    "def LR_countVector_1(X,Y):\n",
    "    vectorizer = CountVectorizer()\n",
    "    X_ = vectorizer.fit_transform(X)\n",
    "    X_train,X_test,Y_train,Y_test = train_test_split(X_,Y,test_size = 0.2)\n",
    "    classifier = LogisticRegression(random_state = 0)\n",
    "    classifier.fit(X_train, Y_train)# coding:utf-8\n",
    "    y_pred = classifier.predict(X_test)\n",
    "    print(np.mean(y_pred == Y_test))"
   ]
  },
  {
   "cell_type": "code",
   "execution_count": null,
   "metadata": {},
   "outputs": [],
   "source": [
    "len(frame)"
   ]
  },
  {
   "cell_type": "code",
   "execution_count": null,
   "metadata": {},
   "outputs": [],
   "source": [
    "LR_countVector_1(frame['商品描述'],frame['标签'])"
   ]
  },
  {
   "cell_type": "code",
   "execution_count": null,
   "metadata": {},
   "outputs": [],
   "source": [
    "a_,b_ = LR_Tfidf(frame['商品描述'],frame['标签'])"
   ]
  },
  {
   "cell_type": "code",
   "execution_count": 5,
   "metadata": {},
   "outputs": [
    {
     "name": "stderr",
     "output_type": "stream",
     "text": [
      "c:\\python3\\lib\\site-packages\\gensim\\utils.py:1197: UserWarning: detected Windows; aliasing chunkize to chunkize_serial\n",
      "  warnings.warn(\"detected Windows; aliasing chunkize to chunkize_serial\")\n"
     ]
    }
   ],
   "source": [
    "from gensim.models import word2vec\n",
    "sentences = word2vec.Text8Corpus('分词拿去做word2vect.txt')\n",
    "model = word2vec.Word2Vec(sentences,size = 50,window = 4 ,min_count = 1)"
   ]
  },
  {
   "cell_type": "code",
   "execution_count": 6,
   "metadata": {},
   "outputs": [
    {
     "name": "stderr",
     "output_type": "stream",
     "text": [
      "c:\\python3\\lib\\site-packages\\ipykernel_launcher.py:7: DeprecationWarning: Call to deprecated `__getitem__` (Method will be removed in 4.0.0, use self.wv.__getitem__() instead).\n",
      "  import sys\n"
     ]
    }
   ],
   "source": [
    "X_max = []\n",
    "for i in range(len(X)):\n",
    "    matrix = []\n",
    "    misnum = 0\n",
    "    for word in X[i].split():\n",
    "        try:\n",
    "            matrix.append(model[word].tolist())\n",
    "        except:\n",
    "            misnum += 1\n",
    "    max_list = []\n",
    "    for j in range(len(matrix[0])):  \n",
    "        one_list=[]  \n",
    "        for k in range(len(matrix)):  \n",
    "            one_list.append(matrix[k][j])  \n",
    "        max_list.append(max(one_list))\n",
    "    X_max.append(max_list)"
   ]
  },
  {
   "cell_type": "code",
   "execution_count": 7,
   "metadata": {},
   "outputs": [
    {
     "data": {
      "text/plain": [
       "0.43006276418598693"
      ]
     },
     "execution_count": 7,
     "metadata": {},
     "output_type": "execute_result"
    }
   ],
   "source": [
    "X_train,X_test,Y_train,Y_test = train_test_split(X_max,Y,test_size = 0.2)\n",
    "clf = LogisticRegression()\n",
    "clf.fit(X_train,Y_train)\n",
    "pre = clf.predict(X_test)\n",
    "np.mean(pre == Y_test)"
   ]
  },
  {
   "cell_type": "code",
   "execution_count": 8,
   "metadata": {},
   "outputs": [
    {
     "name": "stdout",
     "output_type": "stream",
     "text": [
      "0.7275521967465095\n"
     ]
    }
   ],
   "source": [
    "predeict,true = LR_Tfidf(list_des,Y)"
   ]
  },
  {
   "cell_type": "code",
   "execution_count": 9,
   "metadata": {},
   "outputs": [
    {
     "ename": "NameError",
     "evalue": "name 'frame' is not defined",
     "output_type": "error",
     "traceback": [
      "\u001b[1;31m---------------------------------------------------------------------------\u001b[0m",
      "\u001b[1;31mNameError\u001b[0m                                 Traceback (most recent call last)",
      "\u001b[1;32m<ipython-input-9-acc243e49891>\u001b[0m in \u001b[0;36m<module>\u001b[1;34m()\u001b[0m\n\u001b[1;32m----> 1\u001b[1;33m \u001b[0mframe\u001b[0m\u001b[1;33m**\u001b[0m\u001b[1;36m2\u001b[0m\u001b[1;33m\u001b[0m\u001b[0m\n\u001b[0m",
      "\u001b[1;31mNameError\u001b[0m: name 'frame' is not defined"
     ]
    }
   ],
   "source": [
    "frame**2"
   ]
  },
  {
   "cell_type": "code",
   "execution_count": null,
   "metadata": {},
   "outputs": [],
   "source": []
  }
 ],
 "metadata": {
  "kernelspec": {
   "display_name": "Python 3",
   "language": "python",
   "name": "python3"
  },
  "language_info": {
   "codemirror_mode": {
    "name": "ipython",
    "version": 3
   },
   "file_extension": ".py",
   "mimetype": "text/x-python",
   "name": "python",
   "nbconvert_exporter": "python",
   "pygments_lexer": "ipython3",
   "version": "3.6.5"
  }
 },
 "nbformat": 4,
 "nbformat_minor": 2
}
