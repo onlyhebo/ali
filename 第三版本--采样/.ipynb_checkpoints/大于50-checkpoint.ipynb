{
 "cells": [
  {
   "cell_type": "code",
   "execution_count": 46,
   "metadata": {},
   "outputs": [],
   "source": [
    "import numpy as np\n",
    "import pandas as pd \n",
    "import jieba \n",
    "from collections import Counter\n",
    "jieba.add_word('caonidaye')"
   ]
  },
  {
   "cell_type": "markdown",
   "metadata": {},
   "source": [
    "### 以下做了两个操作：\n",
    "    第一：选择那些标签名存在于我们的商品描述之中的条目；\n",
    "    第二：如果满足条件一，重新分词，将label作为自定义字典；"
   ]
  },
  {
   "cell_type": "code",
   "execution_count": 51,
   "metadata": {},
   "outputs": [],
   "source": [
    "X_1 = open('.././input/train_X.txt','r',encoding = 'utf8').readlines()\n",
    "Y_1 = open('.././input/train_Y.txt','r',encoding = 'utf8').readlines()\n",
    "X = []\n",
    "Y = []\n",
    "X_del = []\n",
    "Y_del = []\n",
    "for i in range(len(Y_1)):\n",
    "    X_1[i] = X_1[i].strip('\\n')\n",
    "    Y_1[i] = Y_1[i].strip('\\n')\n",
    "    description = X_1[i].replace(' ','')\n",
    "    if Y_1[i] in description and Y_1[i] != '':\n",
    "        drop_Y = description.replace(Y_1[i],'caonidaye') # 将描述里面的关键词抽取出来\n",
    "        drop_cut = jieba.lcut(drop_Y) #对剩余的商品描述分词\n",
    "        s = ''\n",
    "        for j in range(len(drop_cut)):\n",
    "            if drop_cut[j] == 'caonidaye':\n",
    "                drop_cut[j] = Y_1[i]\n",
    "            s = s + drop_cut[j] + ' '\n",
    "        X.append(s)\n",
    "        Y.append(Y_1[i])\n",
    "    else:\n",
    "        X_del.append(X_1[i])\n",
    "        Y_del.append(Y_1[i])\n",
    "#筛选词不在商品里面的 筛除 116358 - 104252 = 12096 条数据\n",
    "#X_del用来存放这些垃圾"
   ]
  },
  {
   "cell_type": "markdown",
   "metadata": {},
   "source": [
    "len(Counter(Y).keys()) = 18480"
   ]
  },
  {
   "cell_type": "code",
   "execution_count": 56,
   "metadata": {},
   "outputs": [],
   "source": [
    "label_dict = {} # 创建规则字典\n",
    "for i in range(len(X)):\n",
    "    replace = False \n",
    "    label_cadi = [] #找出备选标签\n",
    "    for word in X[i].split():\n",
    "        if word in Y:\n",
    "            label_cadi.append(word)\n",
    "    #将备选标添加到label_cadi里面\n",
    "    if Y[i] not in label_dict.keys():\n",
    "        label_dict[Y[i]] = []\n",
    "    for word_1 in label_cadi:\n",
    "        for word_2 in label_cadi:\n",
    "            if word_1 != word_2:\n",
    "                if word_1 in label_dict.keys():\n",
    "                    if word_2 in label_dict[word_1]:\n",
    "                        Y[i] = word_1\n",
    "                        replace = True\n",
    "                        break\n",
    "                #如果规则字典里面有，将此时Y值更新为规则词典\n",
    "        if replace == True:\n",
    "            break\n",
    "        #如果已经代替，跳出循环\n",
    "    if replace == True:\n",
    "        continue\n",
    "    #如果已经代替。继续下一条商品描述\n",
    "    else:\n",
    "        #label_cadi.remove(Y_refresh[i])\n",
    "        #label_dict[Y_refresh[i]].extend(label_cadi)\n",
    "        for word in label_cadi:\n",
    "            if word!= Y[i]:\n",
    "                label_dict[Y[i]].append(word)\n",
    "     #如果没有代替的话，创建该规则字典   \n",
    "#可以考虑加入if Y_refresh.count(Y_refresh[i]) < 10  直接break"
   ]
  },
  {
   "cell_type": "markdown",
   "metadata": {},
   "source": [
    "##### len(Counter(Y).keys()) = 13397，通过构造数据字典，label的种类变为13398个"
   ]
  },
  {
   "cell_type": "markdown",
   "metadata": {},
   "source": [
    "#### 明天过来把Y值清洗一下：具体做法如下：最笨的办法，根据每条数据的label 查看其是否属于其他的label，寻找一个最短的label，比如：碎花连衣裙和连衣裙归纳为连衣裙"
   ]
  },
  {
   "cell_type": "raw",
   "metadata": {},
   "source": [
    "index = []\n",
    "for i in range(len(Y)):\n",
    "    words = []\n",
    "    words.append(Y[i])\n",
    "    for j in range(i + 1, len(Y)):\n",
    "        if j not in index:\n",
    "            if Y[i] in Y[j] or Y[j] in Y[i]:\n",
    "                if Y[j] not in words:\n",
    "                    words.append(Y[j])\n",
    "                    index.append(j)\n",
    "    print(words)"
   ]
  },
  {
   "cell_type": "markdown",
   "metadata": {},
   "source": [
    "##### 下面做的任务就是统计数目在50-500 之间的类目，而且，分词后词数要大于等于5"
   ]
  },
  {
   "cell_type": "code",
   "execution_count": 57,
   "metadata": {
    "scrolled": false
   },
   "outputs": [],
   "source": [
    "X_new = [] \n",
    "Y_new = []\n",
    "for i in range(len(X)):\n",
    "    if Y.count(Y[i]) >= 50 and Y.count(Y[i]) <= 500:\n",
    "        if len(X[i].split()) >=5:\n",
    "            X_new.append(X[i])\n",
    "            Y_new.append(Y[i])"
   ]
  },
  {
   "cell_type": "code",
   "execution_count": 58,
   "metadata": {
    "scrolled": false
   },
   "outputs": [],
   "source": [
    "frame = pd.concat([pd.Series(X_new).to_frame(),pd.Series(Y_new).to_frame()],axis = 1)\n",
    "frame.columns = ['商品描述','标签']"
   ]
  },
  {
   "cell_type": "markdown",
   "metadata": {},
   "source": [
    "##### 将以上处理之后的数据保存到文件夹中"
   ]
  },
  {
   "cell_type": "code",
   "execution_count": 59,
   "metadata": {},
   "outputs": [],
   "source": [
    "with open('two_X_new.txt','w',encoding = 'utf8') as X_op:\n",
    "    for i in range(len(X_new)):\n",
    "        X_op.write(X_new[i] + '\\n')\n",
    "with open('two_Y_new.txt','w',encoding = 'utf8') as Y_op:\n",
    "    for i in range(len(Y_new)):\n",
    "        Y_op.write(Y_new[i] + '\\n')"
   ]
  },
  {
   "cell_type": "markdown",
   "metadata": {},
   "source": [
    "##### 使用word2cev分"
   ]
  },
  {
   "cell_type": "code",
   "execution_count": 60,
   "metadata": {
    "scrolled": false
   },
   "outputs": [
    {
     "name": "stderr",
     "output_type": "stream",
     "text": [
      "c:\\python3\\lib\\site-packages\\gensim\\utils.py:1197: UserWarning: detected Windows; aliasing chunkize to chunkize_serial\n",
      "  warnings.warn(\"detected Windows; aliasing chunkize to chunkize_serial\")\n"
     ]
    }
   ],
   "source": [
    "from gensim.models import word2vec\n",
    "sentences = word2vec.Text8Corpus('two_X_new.txt')\n",
    "model = word2vec.Word2Vec(sentences,size = 50,window = 4 ,min_count = 3)\n",
    "model.wv.save_word2vec_format('two.zh.text.vector',binary =False)"
   ]
  },
  {
   "cell_type": "markdown",
   "metadata": {},
   "source": [
    "##### 下面做的是将每条商品描述的word2vec相加求平均，保存到文件中"
   ]
  },
  {
   "cell_type": "code",
   "execution_count": 61,
   "metadata": {},
   "outputs": [
    {
     "name": "stderr",
     "output_type": "stream",
     "text": [
      "c:\\python3\\lib\\site-packages\\ipykernel_launcher.py:10: DeprecationWarning: Call to deprecated `__getitem__` (Method will be removed in 4.0.0, use self.wv.__getitem__() instead).\n",
      "  # Remove the CWD from sys.path while we load stuff.\n"
     ]
    }
   ],
   "source": [
    "output = open('two_word2cev_60dim.txt','w',encoding = 'utf8')\n",
    "misnum = 0\n",
    "dim = 50\n",
    "for line in range(len(X_new)):\n",
    "    sum = np.zeros((1,dim))\n",
    "    words = X_new[line].split()\n",
    "    num = 1\n",
    "    for word in words:\n",
    "        try:\n",
    "            temp = model[word]\n",
    "        except:\n",
    "            misnum +=1\n",
    "        else:\n",
    "            temp = temp.reshape((1,dim))\n",
    "            sum += temp\n",
    "            num = num+1\n",
    "    if num > 1:\n",
    "        num -= 1\n",
    "    sum /= num\n",
    "    for j in range(dim):\n",
    "        output.write('%.4f'%(sum[0][j]) + ' ')\n",
    "    output.write('\\n')\n",
    "output.flush() #刷新缓冲区\n",
    "output.close()"
   ]
  },
  {
   "cell_type": "code",
   "execution_count": 62,
   "metadata": {},
   "outputs": [
    {
     "name": "stderr",
     "output_type": "stream",
     "text": [
      "c:\\python3\\lib\\site-packages\\sklearn\\cross_validation.py:41: DeprecationWarning: This module was deprecated in version 0.18 in favor of the model_selection module into which all the refactored classes and functions are moved. Also note that the interface of the new CV iterators are different from that of this module. This module will be removed in 0.20.\n",
      "  \"This module will be removed in 0.20.\", DeprecationWarning)\n"
     ]
    }
   ],
   "source": [
    "from sklearn.model_selection import cross_val_score\n",
    "from sklearn.cross_validation import train_test_split\n",
    "from sklearn.preprocessing import LabelEncoder\n",
    "import numpy as np\n",
    "import pandas as pd "
   ]
  },
  {
   "cell_type": "markdown",
   "metadata": {},
   "source": [
    "##### 调用我们的X和Y，以0.8和0.2的比例划分训练集和数据集"
   ]
  },
  {
   "cell_type": "code",
   "execution_count": 63,
   "metadata": {},
   "outputs": [],
   "source": [
    "X = open('two_word2cev_60dim.txt','r',encoding = 'utf8')\n",
    "Y = open('two_Y_new.txt','r',encoding = 'utf8')\n",
    "X_lines = X.readlines()\n",
    "Y_lines = Y.readlines()\n",
    "for i in range(len(X_lines)):\n",
    "    X_lines[i] = X_lines[i].strip('\\n')\n",
    "    X_lines[i] = list(map(float,X_lines[i].split()))\n",
    "    Y_lines[i] = Y_lines[i].strip('\\n')\n",
    "label = LabelEncoder()\n",
    "Y_num = label.fit_transform(Y_lines)\n",
    "X_train,X_test,Y_train,Y_test = train_test_split(X_lines,Y_num,test_size = 0.2)"
   ]
  },
  {
   "cell_type": "code",
   "execution_count": 64,
   "metadata": {},
   "outputs": [],
   "source": [
    "from sklearn.svm import SVC\n",
    "clf = SVC()\n",
    "clf.fit(X_train,Y_train)\n",
    "y_pre = clf.predict(X_test)\n",
    "result = np.mean(y_pre==Y_test)"
   ]
  },
  {
   "cell_type": "code",
   "execution_count": 65,
   "metadata": {},
   "outputs": [
    {
     "data": {
      "text/plain": [
       "0.46852160533401715"
      ]
     },
     "execution_count": 65,
     "metadata": {},
     "output_type": "execute_result"
    }
   ],
   "source": [
    "result"
   ]
  },
  {
   "cell_type": "code",
   "execution_count": 66,
   "metadata": {},
   "outputs": [],
   "source": [
    "from sklearn.ensemble import RandomForestClassifier\n",
    "clf = RandomForestClassifier()\n",
    "clf.fit(X_train,Y_train)\n",
    "y_pre = clf.predict(X_test)\n",
    "result = np.mean(y_pre == Y_test)"
   ]
  },
  {
   "cell_type": "code",
   "execution_count": 67,
   "metadata": {},
   "outputs": [
    {
     "data": {
      "text/plain": [
       "0.4862161815617387"
      ]
     },
     "execution_count": 67,
     "metadata": {},
     "output_type": "execute_result"
    }
   ],
   "source": [
    "result"
   ]
  },
  {
   "cell_type": "code",
   "execution_count": 68,
   "metadata": {},
   "outputs": [
    {
     "name": "stderr",
     "output_type": "stream",
     "text": [
      "c:\\python3\\lib\\site-packages\\sklearn\\preprocessing\\label.py:151: DeprecationWarning: The truth value of an empty array is ambiguous. Returning False, but in future this will result in an error. Use `array.size > 0` to check that an array is not empty.\n",
      "  if diff:\n"
     ]
    }
   ],
   "source": [
    "from xgboost import XGBClassifier\n",
    "clf = XGBClassifier()\n",
    "clf.fit(np.array(X_train),Y_train)\n",
    "y_pre = clf.predict(X_test)\n",
    "result = np.mean(y_pre == Y_test)"
   ]
  },
  {
   "cell_type": "code",
   "execution_count": 69,
   "metadata": {},
   "outputs": [
    {
     "data": {
      "text/plain": [
       "0.5354532632388768"
      ]
     },
     "execution_count": 69,
     "metadata": {},
     "output_type": "execute_result"
    }
   ],
   "source": [
    "result"
   ]
  },
  {
   "cell_type": "code",
   "execution_count": 70,
   "metadata": {},
   "outputs": [
    {
     "data": {
      "text/plain": [
       "38994"
      ]
     },
     "execution_count": 70,
     "metadata": {},
     "output_type": "execute_result"
    }
   ],
   "source": [
    "len(X_lines)"
   ]
  },
  {
   "cell_type": "code",
   "execution_count": 82,
   "metadata": {
    "collapsed": true
   },
   "outputs": [
    {
     "data": {
      "text/plain": [
       "[('耳钉', 459),\n",
       " ('凉鞋', 453),\n",
       " ('饰品', 399),\n",
       " ('保护套', 390),\n",
       " ('吊灯', 388),\n",
       " ('用品', 377),\n",
       " ('内裤', 375),\n",
       " ('吸顶灯', 371),\n",
       " ('支架', 370),\n",
       " ('摆件', 356),\n",
       " ('收纳盒', 353),\n",
       " ('外套', 350),\n",
       " ('牛仔裤', 348),\n",
       " ('手链', 338),\n",
       " ('睡衣', 324),\n",
       " ('戒指', 319),\n",
       " ('长裤', 314),\n",
       " ('配件', 313),\n",
       " ('工具', 301),\n",
       " ('道具', 291),\n",
       " ('休闲裤', 288),\n",
       " ('拖鞋', 279),\n",
       " ('针织衫', 277),\n",
       " ('开衫', 275),\n",
       " ('置物架', 272),\n",
       " ('收纳袋', 266),\n",
       " ('单鞋', 265),\n",
       " ('射灯', 256),\n",
       " ('轴承', 248),\n",
       " ('头饰', 247),\n",
       " ('窗帘', 244),\n",
       " ('毛衣', 244),\n",
       " ('卫衣', 236),\n",
       " ('沙发', 236),\n",
       " ('礼服', 234),\n",
       " ('吊坠', 228),\n",
       " ('电池', 227),\n",
       " ('贴膜', 226),\n",
       " ('挂件', 223),\n",
       " ('模型', 222),\n",
       " ('袜子', 221),\n",
       " ('电话卡', 216),\n",
       " ('双肩包', 209),\n",
       " ('服装', 209),\n",
       " ('发夹', 206),\n",
       " ('毛巾', 206),\n",
       " ('手套', 200),\n",
       " ('短裙', 199),\n",
       " ('数据线', 197),\n",
       " ('相框', 194),\n",
       " ('假发', 191),\n",
       " ('椅子', 188),\n",
       " ('模具', 184),\n",
       " ('零食', 183),\n",
       " ('内衣', 183),\n",
       " ('比基尼', 180),\n",
       " ('衬衣', 180),\n",
       " ('背包', 176),\n",
       " ('帽子', 176),\n",
       " ('摄像头', 172),\n",
       " ('手表', 171),\n",
       " ('腰带', 170),\n",
       " ('表带', 169),\n",
       " ('眼镜', 167),\n",
       " ('手环', 166),\n",
       " ('长裙', 166),\n",
       " ('电脑', 165),\n",
       " ('童装', 164),\n",
       " ('螺丝', 163),\n",
       " ('音响', 157),\n",
       " ('钱包', 156),\n",
       " ('壁灯', 155),\n",
       " ('围巾', 153),\n",
       " ('蝴蝶结', 153),\n",
       " ('女包', 148),\n",
       " ('套装', 147),\n",
       " ('女鞋', 147),\n",
       " ('衣服', 146),\n",
       " ('茶几', 144),\n",
       " ('抹胸', 143),\n",
       " ('手镯', 141),\n",
       " ('印章', 140),\n",
       " ('雪纺衫', 139),\n",
       " ('包', 137),\n",
       " ('充电器', 136),\n",
       " ('公仔', 133),\n",
       " ('太阳镜', 133),\n",
       " ('晚礼服', 131),\n",
       " ('游泳衣', 130),\n",
       " ('裤子', 130),\n",
       " ('高跟鞋', 130),\n",
       " ('餐桌', 129),\n",
       " ('衣架', 129),\n",
       " ('名片', 128),\n",
       " ('音箱', 127),\n",
       " ('演出服', 127),\n",
       " ('永生花', 126),\n",
       " ('斜挎包', 126),\n",
       " ('手提包', 126),\n",
       " ('餐具', 126),\n",
       " ('遮阳帽', 125),\n",
       " ('地毯', 124),\n",
       " ('布料', 123),\n",
       " ('包包', 123),\n",
       " ('开关', 123),\n",
       " ('卡片', 122),\n",
       " ('面膜', 121),\n",
       " ('电源', 119),\n",
       " ('裙子', 119),\n",
       " ('展示架', 118),\n",
       " ('水杯', 117),\n",
       " ('挂钩', 116),\n",
       " ('积木', 116),\n",
       " ('插座', 116),\n",
       " ('风衣', 115),\n",
       " ('书籍', 115),\n",
       " ('胶带', 115),\n",
       " ('夹克', 112),\n",
       " ('装饰画', 112),\n",
       " ('钥匙扣', 111),\n",
       " ('台灯', 111),\n",
       " ('地垫', 110),\n",
       " ('奖杯', 109),\n",
       " ('棒球帽', 109),\n",
       " ('灯泡', 109),\n",
       " ('充电宝', 107),\n",
       " ('床垫', 107),\n",
       " ('标签', 107),\n",
       " ('桌椅', 106),\n",
       " ('风扇', 106),\n",
       " ('蛋糕', 106),\n",
       " ('发饰', 106),\n",
       " ('蜡烛', 105),\n",
       " ('遥控器', 105),\n",
       " ('发圈', 105),\n",
       " ('纹身贴', 105),\n",
       " ('发绳', 103),\n",
       " ('胸针', 101),\n",
       " ('帆布鞋', 101),\n",
       " ('托盘', 100),\n",
       " ('假睫毛', 100),\n",
       " ('凳子', 99),\n",
       " ('连体裤', 99),\n",
       " ('显示器', 98),\n",
       " ('装饰', 97),\n",
       " ('运动鞋', 96),\n",
       " ('雨伞', 95),\n",
       " ('旗袍', 95),\n",
       " ('马甲', 95),\n",
       " ('手办', 94),\n",
       " ('礼物', 94),\n",
       " ('转换器', 93),\n",
       " ('球衣', 93),\n",
       " ('指甲油', 93),\n",
       " ('皮鞋', 92),\n",
       " ('零配件', 91),\n",
       " ('游泳圈', 90),\n",
       " ('项圈', 90),\n",
       " ('杯子', 90),\n",
       " ('花瓶', 88),\n",
       " ('化妆包', 88),\n",
       " ('灯', 88),\n",
       " ('墙纸', 87),\n",
       " ('相机', 87),\n",
       " ('抱枕', 86),\n",
       " ('推车', 86),\n",
       " ('枕头', 86),\n",
       " ('笔记本', 86),\n",
       " ('鞋柜', 85),\n",
       " ('帐篷', 85),\n",
       " ('连体衣', 85),\n",
       " ('键盘', 85),\n",
       " ('七分裤', 84),\n",
       " ('围裙', 83),\n",
       " ('储物柜', 83),\n",
       " ('船袜', 83),\n",
       " ('礼品', 83),\n",
       " ('皮套', 82),\n",
       " ('镜子', 81),\n",
       " ('收纳包', 81),\n",
       " ('拉杆箱', 80),\n",
       " ('垃圾桶', 80),\n",
       " ('包装盒', 79),\n",
       " ('玩偶', 79),\n",
       " ('鸭舌帽', 79),\n",
       " ('电脑桌', 79),\n",
       " ('仿真花', 79),\n",
       " ('脚垫', 79),\n",
       " ('首饰盒', 78),\n",
       " ('围栏', 78),\n",
       " ('电风扇', 78),\n",
       " ('连裤袜', 77),\n",
       " ('婚纱', 76),\n",
       " ('耳坠', 75),\n",
       " ('丝带', 75),\n",
       " ('打底裤', 74),\n",
       " ('运动裤', 74),\n",
       " ('手机套', 74),\n",
       " ('腰包', 74),\n",
       " ('香水', 74),\n",
       " ('沙发床', 73),\n",
       " ('面具', 73),\n",
       " ('干花', 73),\n",
       " ('剪刀', 72),\n",
       " ('头盔', 72),\n",
       " ('接头', 72),\n",
       " ('鱼缸', 72),\n",
       " ('餐椅', 72),\n",
       " ('徽章', 71),\n",
       " ('路由器', 71),\n",
       " ('半裙', 71),\n",
       " ('单肩包', 70),\n",
       " ('行李箱', 70),\n",
       " ('茶具', 70),\n",
       " ('纸巾盒', 70),\n",
       " ('胶水', 69),\n",
       " ('瓷砖', 69),\n",
       " ('垫子', 69),\n",
       " ('丝袜', 69),\n",
       " ('筒灯', 69),\n",
       " ('散珠', 68),\n",
       " ('袖扣', 68),\n",
       " ('男鞋', 68),\n",
       " ('扑克牌', 68),\n",
       " ('毛绒玩具', 68),\n",
       " ('蓝牙耳机', 68),\n",
       " ('移动电源', 67),\n",
       " ('挂绳', 67),\n",
       " ('卡套', 66),\n",
       " ('电源线', 66),\n",
       " ('阔腿裤', 66),\n",
       " ('包装袋', 66),\n",
       " ('普洱茶', 66),\n",
       " ('盒子', 66),\n",
       " ('书架', 66),\n",
       " ('夹子', 65),\n",
       " ('沙滩鞋', 65),\n",
       " ('罩衫', 64),\n",
       " ('吸管', 64),\n",
       " ('滑板车', 64),\n",
       " ('靠枕', 63),\n",
       " ('雨衣', 63),\n",
       " ('太阳伞', 63),\n",
       " ('墙贴', 63),\n",
       " ('西装', 63),\n",
       " ('滴胶', 63),\n",
       " ('清洗机', 62),\n",
       " ('眼镜框', 62),\n",
       " ('纹身贴纸', 62),\n",
       " ('玻璃瓶', 62),\n",
       " ('休闲鞋', 61),\n",
       " ('口罩', 61),\n",
       " ('毛笔', 61),\n",
       " ('香薰', 61),\n",
       " ('手机卡', 61),\n",
       " ('贴画', 61),\n",
       " ('吸尘器', 60),\n",
       " ('潜水服', 60),\n",
       " ('制服', 60),\n",
       " ('布贴', 60),\n",
       " ('信封', 59),\n",
       " ('茶杯', 59),\n",
       " ('耳饰', 59),\n",
       " ('文件夹', 59),\n",
       " ('衣柜', 59),\n",
       " ('手电筒', 58),\n",
       " ('按摩器', 58),\n",
       " ('镜头', 58),\n",
       " ('书桌', 58),\n",
       " ('连接线', 58),\n",
       " ('拉手', 58),\n",
       " ('茶叶', 58),\n",
       " ('模块', 58),\n",
       " ('领带', 57),\n",
       " ('背带', 57),\n",
       " ('浴巾', 57),\n",
       " ('拼图', 57),\n",
       " ('床', 57),\n",
       " ('饼干', 57),\n",
       " ('手串', 56),\n",
       " ('灯笼', 56),\n",
       " ('睡袋', 56),\n",
       " ('记事本', 56),\n",
       " ('对讲机', 56),\n",
       " ('绘本', 56),\n",
       " ('长袖', 56),\n",
       " ('海报', 55),\n",
       " ('三脚架', 55),\n",
       " ('灯箱', 55),\n",
       " ('锂电池', 55),\n",
       " ('大衣', 54),\n",
       " ('电机', 54),\n",
       " ('酒杯', 54),\n",
       " ('盘子', 54),\n",
       " ('丝巾', 54),\n",
       " ('花盆', 54),\n",
       " ('T恤衫', 54),\n",
       " ('雨靴', 53),\n",
       " ('图书', 53),\n",
       " ('请柬', 52),\n",
       " ('卡包', 52),\n",
       " ('文具', 52),\n",
       " ('纸杯', 52),\n",
       " ('电源适配器', 51),\n",
       " ('话筒', 51),\n",
       " ('门票', 51),\n",
       " ('人字拖', 51),\n",
       " ('鞋子', 51),\n",
       " ('螺丝刀', 51),\n",
       " ('螺母', 51),\n",
       " ('平底鞋', 50),\n",
       " ('发卡', 50),\n",
       " ('床单', 50),\n",
       " ('笔袋', 50),\n",
       " ('灯饰', 50),\n",
       " ('插头', 50),\n",
       " ('相册', 49),\n",
       " ('裙裤', 49),\n",
       " ('机顶盒', 49),\n",
       " ('双肩背包', 48),\n",
       " ('摄像机', 48),\n",
       " ('购物袋', 48),\n",
       " ('保温杯', 47),\n",
       " ('外壳', 46),\n",
       " ('屏幕', 41),\n",
       " ('墨盒', 39),\n",
       " ('主板', 27),\n",
       " ('硬盘', 26),\n",
       " ('硒鼓', 17)]"
      ]
     },
     "execution_count": 82,
     "metadata": {},
     "output_type": "execute_result"
    }
   ],
   "source": [
    "Counter(Y_lines).most_common()"
   ]
  },
  {
   "cell_type": "raw",
   "metadata": {},
   "source": []
  }
 ],
 "metadata": {
  "kernelspec": {
   "display_name": "Python 3",
   "language": "python",
   "name": "python3"
  },
  "language_info": {
   "codemirror_mode": {
    "name": "ipython",
    "version": 3
   },
   "file_extension": ".py",
   "mimetype": "text/x-python",
   "name": "python",
   "nbconvert_exporter": "python",
   "pygments_lexer": "ipython3",
   "version": "3.6.5"
  }
 },
 "nbformat": 4,
 "nbformat_minor": 2
}
