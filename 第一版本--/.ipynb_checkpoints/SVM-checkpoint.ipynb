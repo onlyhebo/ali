{
 "cells": [
  {
   "cell_type": "code",
   "execution_count": 51,
   "metadata": {},
   "outputs": [],
   "source": [
    "from sklearn.svm import SVC\n",
    "from sklearn.model_selection import cross_val_score\n",
    "from sklearn.cross_validation import train_test_split\n",
    "from sklearn.preprocessing import LabelEncoder\n",
    "import numpy as np\n",
    "import pandas as pd "
   ]
  },
  {
   "cell_type": "code",
   "execution_count": 52,
   "metadata": {},
   "outputs": [],
   "source": [
    "X = open('two_word2cev_60dim.txt','r',encoding = 'utf8')\n",
    "Y = open('two_Y_new.txt','r',encoding = 'utf8')\n",
    "X_lines = X.readlines()\n",
    "Y_lines = Y.readlines()\n",
    "for i in range(len(X_lines)):\n",
    "    X_lines[i] = X_lines[i].strip('\\n')\n",
    "    X_lines[i] = list(map(float,X_lines[i].split()))\n",
    "    Y_lines[i] = Y_lines[i].strip('\\n')\n",
    "label = LabelEncoder()\n",
    "Y_num = label.fit_transform(Y_lines)"
   ]
  },
  {
   "cell_type": "code",
   "execution_count": 53,
   "metadata": {},
   "outputs": [],
   "source": [
    "X_train,X_test,Y_train,Y_test = train_test_split(X_lines,Y_num,test_size = 0.2)"
   ]
  },
  {
   "cell_type": "code",
   "execution_count": 35,
   "metadata": {},
   "outputs": [],
   "source": [
    "clf = SVC()\n",
    "clf.fit(X_train,Y_train)\n",
    "y_pre = clf.predict(X_test)\n",
    "result = np.mean(y_pre==Y_test)"
   ]
  },
  {
   "cell_type": "markdown",
   "metadata": {},
   "source": [
    "50维,窗口5的时候是0.18\n",
    "200维，窗口5时候是0.14\n",
    "100为，窗口3时候是0.13"
   ]
  },
  {
   "cell_type": "code",
   "execution_count": 54,
   "metadata": {},
   "outputs": [
    {
     "data": {
      "text/plain": [
       "329"
      ]
     },
     "execution_count": 54,
     "metadata": {},
     "output_type": "execute_result"
    }
   ],
   "source": [
    "from collections import Counter\n",
    "len(Counter(Y_lines).keys())"
   ]
  },
  {
   "cell_type": "code",
   "execution_count": 55,
   "metadata": {},
   "outputs": [
    {
     "data": {
      "text/plain": [
       "38994"
      ]
     },
     "execution_count": 55,
     "metadata": {},
     "output_type": "execute_result"
    }
   ],
   "source": [
    "len(Y_lines)"
   ]
  },
  {
   "cell_type": "code",
   "execution_count": 20,
   "metadata": {},
   "outputs": [
    {
     "name": "stderr",
     "output_type": "stream",
     "text": [
      "c:\\python3\\lib\\site-packages\\sklearn\\preprocessing\\label.py:151: DeprecationWarning: The truth value of an empty array is ambiguous. Returning False, but in future this will result in an error. Use `array.size > 0` to check that an array is not empty.\n",
      "  if diff:\n"
     ]
    },
    {
     "data": {
      "text/plain": [
       "0.5290421848954994"
      ]
     },
     "execution_count": 20,
     "metadata": {},
     "output_type": "execute_result"
    }
   ],
   "source": [
    "from xgboost import XGBClassifier\n",
    "clf = XGBClassifier()\n",
    "clf.fit(np.array(X_train),Y_train)\n",
    "y_pre = clf.predict(X_test)\n",
    "result = np.mean(y_pre == Y_test)\n",
    "result"
   ]
  },
  {
   "cell_type": "code",
   "execution_count": 56,
   "metadata": {},
   "outputs": [],
   "source": [
    "import numpy as np\n",
    "import pandas as pd \n",
    "X_dummy = open('two_X_new.txt','r',encoding = 'utf8').readlines()\n",
    "from sklearn.feature_extraction.text import TfidfVectorizer,CountVectorizer\n",
    "#vectorizer = CountVectorizer()\n",
    "tfidfVecorizer  = TfidfVectorizer()\n",
    "tfidf = tfidfVecorizer.fit_transform(X_dummy)\n",
    "word = tfidfVecorizer.vocabulary_  #返回一个字典，字典的value值就是各个word的index \n",
    "words = tfidfVecorizer.get_feature_names()# 存"
   ]
  },
  {
   "cell_type": "code",
   "execution_count": 57,
   "metadata": {},
   "outputs": [],
   "source": [
    "X_train,X_test,Y_train,Y_test = train_test_split(tfidf,Y_num,test_size = 0.2)"
   ]
  },
  {
   "cell_type": "code",
   "execution_count": 44,
   "metadata": {},
   "outputs": [
    {
     "name": "stderr",
     "output_type": "stream",
     "text": [
      "c:\\python3\\lib\\site-packages\\sklearn\\preprocessing\\label.py:151: DeprecationWarning: The truth value of an empty array is ambiguous. Returning False, but in future this will result in an error. Use `array.size > 0` to check that an array is not empty.\n",
      "  if diff:\n"
     ]
    },
    {
     "data": {
      "text/plain": [
       "0.8479292216950891"
      ]
     },
     "execution_count": 44,
     "metadata": {},
     "output_type": "execute_result"
    }
   ],
   "source": [
    "from xgboost import XGBClassifier\n",
    "clf = XGBClassifier()\n",
    "clf.fit(X_train,Y_train)\n",
    "y_pre = clf.predict(X_test)\n",
    "result = np.mean(y_pre == Y_test)\n",
    "result"
   ]
  },
  {
   "cell_type": "code",
   "execution_count": 34,
   "metadata": {
    "collapsed": true
   },
   "outputs": [
    {
     "name": "stdout",
     "output_type": "stream",
     "text": [
      "----Document 0----\n",
      "logo 0.32296451175956775\n",
      "刻印 0.38993344684336845\n",
      "厨房 0.20769328308667917\n",
      "围裙 0.5365203371772135\n",
      "女士 0.183089414773187\n",
      "广告 0.24440688193471785\n",
      "新款 0.1246336541938986\n",
      "时尚 0.15565709087678997\n",
      "直销 0.30083253069662275\n",
      "纯色 0.19258198047378788\n",
      "艾米 0.38993344684336845\n",
      "----Document 1----\n",
      "aperwhite 0.379883443023048\n",
      "kindlex 0.379883443023048\n",
      "kpw 0.379883443023048\n",
      "voyage 0.379883443023048\n",
      "保护套 0.18063754654886746\n",
      "咪咕 0.36572377275041723\n",
      "折叠 0.17710371138473496\n",
      "支架 0.183670879653635\n",
      "皮套 0.21669870970495556\n",
      "薄壳 0.379883443023048\n",
      "----Document 2----\n",
      "rszrzzrs 0.5262686909916348\n",
      "zokol 0.5262686909916348\n",
      "皇冠 0.29567320601283037\n",
      "胶封 0.5262686909916348\n",
      "轴承 0.2858341300333959\n",
      "----Document 3----\n",
      "一字 0.2894996314009\n",
      "代购 0.2584128624433947\n",
      "发夹 0.28719101867971725\n",
      "发饰 0.2581864991486094\n",
      "头饰 0.26641928235091084\n",
      "海边 0.33470031882089973\n",
      "糖果 0.32410675765345126\n",
      "进口 0.2546244411282921\n",
      "韩国 0.20631598557098493\n",
      "韩式 0.32838113706459937\n",
      "韩版 0.1962864228076573\n",
      "鸭嘴 0.3980736812768946\n",
      "----Document 4----\n",
      "仿羊绒 0.3853309219049344\n",
      "保暖 0.2803189176811338\n",
      "冬天 0.3723026365620701\n",
      "加厚 0.2012606777570321\n",
      "围巾 0.26391873537363475\n",
      "围脖 0.3623729524867141\n",
      "女士 0.2008805327756053\n",
      "学生 0.1901665018361466\n",
      "披肩 0.25836272230050433\n",
      "纯色 0.21129550765389848\n",
      "超大 0.2628711565490911\n",
      "长款 0.22971382073616162\n",
      "韩版百 0.28822900054610845\n",
      "----Document 5----\n",
      "同款 0.20680306496030815\n",
      "品牌 0.269644012621964\n",
      "字母 0.23557191203395653\n",
      "开口 0.2690049286958238\n",
      "手环 0.4795299251927594\n",
      "手镯 0.47983540849625617\n",
      "明星 0.2540984445433102\n",
      "纯银 0.23598582136757865\n",
      "镀金 0.2936400580270026\n",
      "黄金 0.2999934030809093\n",
      "----Document 6----\n",
      "休闲 0.16393923001313493\n",
      "凉鞋 0.4013195514033588\n",
      "夏季 0.14817650744089209\n",
      "女软底 0.4175734924727408\n",
      "摇摇 0.33542314404371487\n",
      "新款 0.12496361421759108\n",
      "松糕 0.279484091006503\n",
      "贴鱼 0.4175734924727408\n",
      "运动 0.18502785250793485\n",
      "韩版厚底 0.36435805141126565\n",
      "魔术 0.26104977023323517\n",
      "----Document 7----\n",
      "产后 0.26670444283776584\n",
      "内裤 0.18854974249366294\n",
      "塑形 0.3056911729796571\n",
      "塑身 0.271118726287258\n",
      "女夏 0.3692241727737983\n",
      "收腹 0.262068774846521\n",
      "无痕 0.20861658700761668\n",
      "束缚 0.3145963815354005\n",
      "束身 0.3145963815354005\n",
      "瘦身 0.30083402195068787\n",
      "薄款 0.1665466772992773\n",
      "裤收 0.35546181318908576\n",
      "高腰 0.18789383502830564\n",
      "----Document 8----\n",
      "可爱 0.20658261697179175\n",
      "叶子 0.36573748666051964\n",
      "女款 0.24976403337320982\n",
      "小巧 0.3414530218420882\n",
      "幸运 0.3982030639971982\n",
      "清新 0.23871247642639493\n",
      "礼物 0.24583749982293504\n",
      "纯银 0.26339453417927144\n",
      "绿色 0.3172756799460265\n",
      "耳钉 0.2306734778163384\n",
      "耳饰 0.26744277353677953\n",
      "配饰 0.27170874778180376\n",
      "----Document 9----\n",
      "elisha 0.480763874300558\n",
      "个性 0.1984533728534368\n",
      "代购 0.22340963485297652\n",
      "发圈 0.2584395875638765\n",
      "发绳 0.2636451044197009\n",
      "吊坠 0.24715636755789946\n",
      "新颖 0.4501296720840489\n",
      "时尚 0.17968675383230484\n",
      "珍珠 0.24208781487080236\n",
      "进口 0.2201343728761788\n",
      "造型 0.2821373506452526\n",
      "韩国 0.17836952295995862\n",
      "韩版 0.16969851125603902\n",
      "----Document 10----\n",
      "jpb 0.4220779527390026\n",
      "假牙 0.33904142981128704\n",
      "家用 0.18006316617915222\n",
      "小型 0.24902027339893254\n",
      "手表 0.22026448000216758\n",
      "洁盟 0.3494503176548092\n",
      "清洁器 0.3525560478627349\n",
      "清洗机 0.28700265580390877\n",
      "珠宝首饰 0.31700313007751135\n",
      "眼镜 0.22638844906912622\n",
      "超声波 0.28883611092002665\n",
      "----Document 11----\n",
      "信封 0.542640063703641\n",
      "创意 0.14986308617270153\n",
      "卡片 0.2465227189524128\n",
      "复古 0.16310696300666808\n",
      "定制 0.16592795341089575\n",
      "情书 0.3846356381475303\n",
      "浪漫 0.2588283292257531\n",
      "爱心 0.25500677282768447\n",
      "牛皮纸 0.2743764111184679\n",
      "珠光 0.2947334927207209\n",
      "邀请函 0.31758603289174986\n",
      "韩国 0.15873604276898184\n",
      "----Document 12----\n",
      "专用 0.14344831394618254\n",
      "卡儿 0.28201000180535785\n",
      "启动 0.7160111150530032\n",
      "宝店 0.29292853906400346\n",
      "应急 0.2323047939090663\n",
      "汽车 0.14874768609268008\n",
      "电源 0.1517053960166226\n",
      "移动电源 0.1922789784195691\n",
      "蝎子 0.28201000180535785\n",
      "酷电 0.29292853906400346\n",
      "----Document 13----\n",
      "休闲 0.1659671341431113\n",
      "便携式 0.24896348248996664\n",
      "写生 0.3332565226015421\n",
      "凳子 0.2539313002578923\n",
      "导演 0.3499974643400415\n",
      "户外 0.18301813592469307\n",
      "折叠 0.19708311712700025\n",
      "椅子 0.22750244900884295\n",
      "沙滩 0.21073594879138963\n",
      "简易 0.2386822535791161\n",
      "美术 0.3332565226015421\n",
      "野餐 0.34711750508948114\n",
      "钓鱼 0.2739514324688653\n",
      "露营 0.28347729952494705\n",
      "----Document 14----\n",
      "多功能 0.28070873678961256\n",
      "手表 0.32010390535920996\n",
      "收纳盒 0.3010421360107475\n",
      "欧式 0.2863075632548262\n",
      "水晶 0.29167340545476633\n",
      "生日礼物 0.37184964079219224\n",
      "结婚 0.31269093166385165\n",
      "饰品 0.23731231378456222\n",
      "首饰 0.3443830434081369\n",
      "首饰盒 0.387427079616834\n",
      "----Document 15----\n",
      "两用 0.24058992566217133\n",
      "单人 0.25650186126511354\n",
      "可折叠 0.33922770459271306\n",
      "多功能 0.19913859632224265\n",
      "客厅 0.16815003839973722\n",
      "小户型 0.3634746988132185\n",
      "带储物 0.4351496951407842\n",
      "收纳 0.19557580426219887\n",
      "沙发 0.2172661634413022\n",
      "沙发床 0.2870880775197425\n"
     ]
    },
    {
     "ename": "KeyboardInterrupt",
     "evalue": "",
     "output_type": "error",
     "traceback": [
      "\u001b[1;31m---------------------------------------------------------------------------\u001b[0m",
      "\u001b[1;31mKeyboardInterrupt\u001b[0m                         Traceback (most recent call last)",
      "\u001b[1;32m<ipython-input-34-240151d711f4>\u001b[0m in \u001b[0;36m<module>\u001b[1;34m()\u001b[0m\n\u001b[0;32m      2\u001b[0m     \u001b[0mprint\u001b[0m\u001b[1;33m(\u001b[0m\u001b[1;34m'----Document %d----'\u001b[0m \u001b[1;33m%\u001b[0m \u001b[1;33m(\u001b[0m\u001b[0mi\u001b[0m\u001b[1;33m)\u001b[0m\u001b[1;33m)\u001b[0m\u001b[1;33m\u001b[0m\u001b[0m\n\u001b[0;32m      3\u001b[0m     \u001b[1;32mfor\u001b[0m \u001b[0mj\u001b[0m \u001b[1;32min\u001b[0m \u001b[0mrange\u001b[0m\u001b[1;33m(\u001b[0m\u001b[0mlen\u001b[0m\u001b[1;33m(\u001b[0m\u001b[0mwords\u001b[0m\u001b[1;33m)\u001b[0m\u001b[1;33m)\u001b[0m\u001b[1;33m:\u001b[0m\u001b[1;33m\u001b[0m\u001b[0m\n\u001b[1;32m----> 4\u001b[1;33m         \u001b[1;32mif\u001b[0m \u001b[0mtfidf\u001b[0m\u001b[1;33m[\u001b[0m\u001b[0mi\u001b[0m\u001b[1;33m,\u001b[0m\u001b[0mj\u001b[0m\u001b[1;33m]\u001b[0m \u001b[1;33m>\u001b[0m \u001b[1;36m1e-5\u001b[0m\u001b[1;33m:\u001b[0m\u001b[1;33m\u001b[0m\u001b[0m\n\u001b[0m\u001b[0;32m      5\u001b[0m               \u001b[0mprint\u001b[0m\u001b[1;33m(\u001b[0m \u001b[0mwords\u001b[0m\u001b[1;33m[\u001b[0m\u001b[0mj\u001b[0m\u001b[1;33m]\u001b[0m\u001b[1;33m,\u001b[0m \u001b[0mtfidf\u001b[0m\u001b[1;33m[\u001b[0m\u001b[0mi\u001b[0m\u001b[1;33m,\u001b[0m\u001b[0mj\u001b[0m\u001b[1;33m]\u001b[0m\u001b[1;33m)\u001b[0m\u001b[1;33m\u001b[0m\u001b[0m\n",
      "\u001b[1;32mc:\\python3\\lib\\site-packages\\scipy\\sparse\\csr.py\u001b[0m in \u001b[0;36m__getitem__\u001b[1;34m(self, key)\u001b[0m\n\u001b[0;32m    280\u001b[0m                               dtype=self.dtype, copy=False)\n\u001b[0;32m    281\u001b[0m \u001b[1;33m\u001b[0m\u001b[0m\n\u001b[1;32m--> 282\u001b[1;33m         \u001b[0mrow\u001b[0m\u001b[1;33m,\u001b[0m \u001b[0mcol\u001b[0m \u001b[1;33m=\u001b[0m \u001b[0mself\u001b[0m\u001b[1;33m.\u001b[0m\u001b[0m_unpack_index\u001b[0m\u001b[1;33m(\u001b[0m\u001b[0mkey\u001b[0m\u001b[1;33m)\u001b[0m\u001b[1;33m\u001b[0m\u001b[0m\n\u001b[0m\u001b[0;32m    283\u001b[0m \u001b[1;33m\u001b[0m\u001b[0m\n\u001b[0;32m    284\u001b[0m         \u001b[1;31m# First attempt to use original row optimized methods\u001b[0m\u001b[1;33m\u001b[0m\u001b[1;33m\u001b[0m\u001b[0m\n",
      "\u001b[1;32mc:\\python3\\lib\\site-packages\\scipy\\sparse\\sputils.py\u001b[0m in \u001b[0;36m_unpack_index\u001b[1;34m(self, index)\u001b[0m\n\u001b[0;32m    288\u001b[0m \u001b[1;33m\u001b[0m\u001b[0m\n\u001b[0;32m    289\u001b[0m         \u001b[1;31m# Next, check for validity, or transform the index as needed.\u001b[0m\u001b[1;33m\u001b[0m\u001b[1;33m\u001b[0m\u001b[0m\n\u001b[1;32m--> 290\u001b[1;33m         \u001b[0mrow\u001b[0m\u001b[1;33m,\u001b[0m \u001b[0mcol\u001b[0m \u001b[1;33m=\u001b[0m \u001b[0mself\u001b[0m\u001b[1;33m.\u001b[0m\u001b[0m_check_boolean\u001b[0m\u001b[1;33m(\u001b[0m\u001b[0mrow\u001b[0m\u001b[1;33m,\u001b[0m \u001b[0mcol\u001b[0m\u001b[1;33m)\u001b[0m\u001b[1;33m\u001b[0m\u001b[0m\n\u001b[0m\u001b[0;32m    291\u001b[0m         \u001b[1;32mreturn\u001b[0m \u001b[0mrow\u001b[0m\u001b[1;33m,\u001b[0m \u001b[0mcol\u001b[0m\u001b[1;33m\u001b[0m\u001b[0m\n\u001b[0;32m    292\u001b[0m \u001b[1;33m\u001b[0m\u001b[0m\n",
      "\u001b[1;32mc:\\python3\\lib\\site-packages\\scipy\\sparse\\sputils.py\u001b[0m in \u001b[0;36m_check_boolean\u001b[1;34m(self, row, col)\u001b[0m\n\u001b[0;32m    330\u001b[0m \u001b[1;33m\u001b[0m\u001b[0m\n\u001b[0;32m    331\u001b[0m     \u001b[1;32mdef\u001b[0m \u001b[0m_check_boolean\u001b[0m\u001b[1;33m(\u001b[0m\u001b[0mself\u001b[0m\u001b[1;33m,\u001b[0m \u001b[0mrow\u001b[0m\u001b[1;33m,\u001b[0m \u001b[0mcol\u001b[0m\u001b[1;33m)\u001b[0m\u001b[1;33m:\u001b[0m\u001b[1;33m\u001b[0m\u001b[0m\n\u001b[1;32m--> 332\u001b[1;33m         \u001b[1;32mfrom\u001b[0m \u001b[1;33m.\u001b[0m\u001b[0mbase\u001b[0m \u001b[1;32mimport\u001b[0m \u001b[0misspmatrix\u001b[0m  \u001b[1;31m# ew...\u001b[0m\u001b[1;33m\u001b[0m\u001b[0m\n\u001b[0m\u001b[0;32m    333\u001b[0m         \u001b[1;31m# Supporting sparse boolean indexing with both row and col does\u001b[0m\u001b[1;33m\u001b[0m\u001b[1;33m\u001b[0m\u001b[0m\n\u001b[0;32m    334\u001b[0m         \u001b[1;31m# not work because spmatrix.ndim is always 2.\u001b[0m\u001b[1;33m\u001b[0m\u001b[1;33m\u001b[0m\u001b[0m\n",
      "\u001b[1;32mc:\\python3\\lib\\importlib\\_bootstrap.py\u001b[0m in \u001b[0;36mparent\u001b[1;34m(self)\u001b[0m\n",
      "\u001b[1;31mKeyboardInterrupt\u001b[0m: "
     ]
    }
   ],
   "source": [
    "for i in range(len(X_dummy)):\n",
    "    print('----Document %d----' % (i))\n",
    "    for j in range(len(words)):\n",
    "        if tfidf[i,j] > 1e-5:\n",
    "              print( words[j], tfidf[i,j])"
   ]
  },
  {
   "cell_type": "code",
   "execution_count": null,
   "metadata": {},
   "outputs": [],
   "source": [
    "from sklearn.svm import SVC\n",
    "from sklearn.model_selection import GridSearchCV\n",
    "svc = SVC()\n",
    "parameters = [\n",
    "    {\n",
    "        'C': [1, 3, 5, 7, 9, 11, 13, 15, 17, 19],\n",
    "        'gamma': [0.00001, 0.0001, 0.001, 0.1, 1, 10, 100, 1000],\n",
    "        'kernel': ['rbf']\n",
    "    },\n",
    "    {\n",
    "        'C': [1, 3, 5, 7, 9, 11, 13, 15, 17, 19],\n",
    "        'kernel': ['linear']\n",
    "    }\n",
    "]\n",
    "clf = GridSearchCV(svc, parameters, cv=5, n_jobs=8)\n",
    "clf.fit(X_train, Y_train)\n",
    "print(clf.best_params_)\n",
    "best_model = clf.best_estimator_\n",
    "best_model.predict(test_data)"
   ]
  },
  {
   "cell_type": "code",
   "execution_count": 46,
   "metadata": {},
   "outputs": [],
   "source": [
    "from sklearn.linear_model import LogisticRegression\n",
    "classifier = LogisticRegression(random_state = 0)\n",
    "classifier.fit(X_train, Y_train)# coding:utf-8\n",
    "y_pred = classifier.predict(X_test)\n",
    "p = np.mean(y_pred == Y_test)"
   ]
  },
  {
   "cell_type": "code",
   "execution_count": 47,
   "metadata": {},
   "outputs": [
    {
     "data": {
      "text/plain": [
       "0.8497243236312347"
      ]
     },
     "execution_count": 47,
     "metadata": {},
     "output_type": "execute_result"
    }
   ],
   "source": [
    "p"
   ]
  },
  {
   "cell_type": "code",
   "execution_count": 48,
   "metadata": {},
   "outputs": [
    {
     "data": {
      "text/plain": [
       "0.8220284651878446"
      ]
     },
     "execution_count": 48,
     "metadata": {},
     "output_type": "execute_result"
    }
   ],
   "source": [
    "from sklearn.ensemble import RandomForestClassifier\n",
    "clf = RandomForestClassifier()\n",
    "clf.fit(X_train,Y_train)\n",
    "y_pre = clf.predict(X_test)\n",
    "result = np.mean(y_pre == Y_test)\n",
    "result"
   ]
  },
  {
   "cell_type": "code",
   "execution_count": 66,
   "metadata": {
    "collapsed": true
   },
   "outputs": [
    {
     "data": {
      "text/plain": [
       "围裙            艾米 围裙 直销 新款 纯色 女士 挂 脖 厨房 时尚 广告 围裙 刻印 logo \\n\n",
       "皮套       kindlex 保护套 aperwhite 咪咕 皮套 支架 KPW 折叠 voyage 薄...\n",
       "轴承                            皇冠 店 ZOKOL 轴承 RSZRZZRS 胶封 \\n\n",
       "发夹        韩国 进口 头饰 代购 发饰 韩版 糖果 色 鸭嘴 夹 韩式 一字 夹 发夹 刘 海边 夹 \\n\n",
       "围巾         韩版百 搭 纯色 仿羊绒 围巾 女士 冬天 长款 超大 披肩 加厚 保暖 学生 围脖 女 \\n\n",
       "手环            双 开口 手镯 手环 字母 明星 同款 家 品牌 纯银 镀金 手镯 手环 白 黄金 \\n\n",
       "凉鞋         女 凉鞋 夏季 新款 韩版厚底 运动 休闲 摇摇 鞋 松糕 魔术 贴鱼 嘴 凉鞋 女软底 \\n\n",
       "内裤       薄款 高腰 瘦身 塑形 收腹 塑身 裤 产后 无痕 提 臀 束身 裤收 腰 束缚 内裤 女夏 \\n\n",
       "耳钉            纯银 可爱 滴 釉 绿色 幸运 草 清新 叶子 耳钉 小巧 配饰 礼物 女款 耳饰 \\n\n",
       "发绳           elisha 韩国 进口 代购 新颖 时尚 个性 韩版 珍珠 吊坠 造型 发圈 发绳 \\n\n",
       "清洗机              洁盟 超声波 清洗机 JPB 小型 家用 眼镜 珠宝首饰 手表 假牙 清洁器 \\n\n",
       "信封         韩国 复古 爱心 扣 牛皮纸 珠光 卡片 信封 袋 创意 浪漫 情书 信封 邀请函 定制 \\n\n",
       "移动电源            卡儿 酷电 蝎子 汽车 应急 启动 电源 移动电源 启动 宝店 专用 启动 宝 \\n\n",
       "凳子         户外 便携式 折叠 钓鱼 椅子 简易 沙滩 美术 写生 导演 休闲 露营 椅 野餐 凳子 \\n\n",
       "首饰盒            水晶 镶 钻 首饰盒 欧式 饰品 盒 多功能 首饰 手表 收纳盒 结婚 生日礼物 \\n\n",
       "沙发床          沙发 小户型 省 空间 可折叠 多功能 沙发床 两用 带储物 收纳 客厅 单人 组装 \\n\n",
       "首饰盒           迪斯凯 玛瑙石 玻璃 面 首饰盒 装饰 盒 样板间 创意 软装 装饰 收纳盒 摆件 \\n\n",
       "抹胸            吊带 背心 女 夏季 新款 女装 百搭 纯色 修身 弹力 交叉 防走光 短款 抹胸 \\n\n",
       "永生花              绝美 纯色 米花 农园 米花 少女 粉 永生花 DIY 材料 包花材 辅材装 \\n\n",
       "转换器                 英国 新加坡 马来西亚 香港旅游 电源 转换 插头 插座 英标 转换器 \\n\n",
       "电源适配器                 装 戴尔 VA 电源适配器 VAAA 监控 液晶 LED 开关电源 \\n\n",
       "卡片                  现货 口袋妖怪 精灵 宝可梦卡牌 卡片 sm 奈克 洛兹 玛 gxSR \\n\n",
       "牛仔裤        日系 潮牌 简约 洗水 原色 男 牛仔裤 修身 收口 缩脚 休闲裤 小脚 裤束 脚 裤潮 \\n\n",
       "单鞋       美国 代购 samedelman 缎面 尖头 系带 绑带 平底 休闲鞋 女鞋 单鞋 BRAN...\n",
       "耳坠       ZENGLIU 韩国 气质 仿 珍珠 耳线 长款 女士 耳环 欧美 简约 耳坠 个性 耳 饰...\n",
       "包装盒       小西 点 蛋糕 包装盒 慕斯 甜品 饼干 打包 盒 烘焙 点心 手提 纸盒 印刷 LOGO \\n\n",
       "长裤            范冰冰 明星 同款 春秋 职业装 套装 女 新款 气质 黑色 时尚 西服 女 长裤 \\n\n",
       "展示架             男士 手表 架 佛珠 手串 手镯 展示架 眼镜架 手机 架 柜台 陈列 亚克力 \\n\n",
       "眼镜框                 眼镜框 近视 全框 圆脸 小脸 时尚 眼镜架 变色 复古 文艺 眼镜框 \\n\n",
       "置物架             洗衣机 置物架 滚筒 不锈钢 阳台 浴室 厕所 卫生间 洗 衣柜 置物架 壁挂 \\n\n",
       "                               ...                        \n",
       "耳钉                热卖 韩版 时尚 羽毛 捕梦网 耳钉 日 韩 清新 耳饰 百搭 耳环 甜美 \\n\n",
       "工具                                     不锈钢 黄油 切割刀 烘焙 工具 \\n\n",
       "移动电源                       超薄 充电 宝 毫安 苹果 通用型 容量 智能 移动电源 \\n\n",
       "拖鞋            新款 拖鞋 时尚 外穿 防滑 厚底 松糕 铆钉 凉 拖 韩版百 搭 一字 拖 女鞋 \\n\n",
       "相框                           亚克力 透明 相框 亚加力 磁石 相架 加厚 证书框 \\n\n",
       "展示架             包邮 金牌 奖牌 收纳 框 展示架 装裱 勋章 奖章 马拉松 奖牌 立体 相框 \\n\n",
       "键盘                    双色 注塑 掉 色卡 佐 背光 游戏 发光 机械 手感 有线 键盘 \\n\n",
       "挂绳                吊坠挂绳 银丝 蜜蜡 挂绳 玉佩 挂绳 项链 绳 黑檀木 挂绳 手把 绳子 \\n\n",
       "永生花                  永生 渐变色 绣球花 新娘 永生花 头饰 永生花 绣球花 花环 材料 \\n\n",
       "手提包                 美国 设计 阿爆 阿希同款 缎面 手 拿 丝绸 绸缎 饺子 包 手提包 \\n\n",
       "模型               任意 定制 透明 亚克力 展示 盒 拼装 手办 模型 卡通动漫 防尘盒 定做 \\n\n",
       "饰品                     品牌 首饰 丽晶 饰品 批发 戒指 指环 小指 尾戒 潮人 韩版 \\n\n",
       "鱼缸                复活节岛 石像 三湖 鱼缸 造景 装饰 树脂 人像 水族 摆件 石像 包邮 \\n\n",
       "茶叶             正宗 德国 进口 迷迭香 茶叶 提神 天然 马鞭草 迷迭香 花茶 三草 茶 罐装 \\n\n",
       "外套                            韩国 短 外套 大码 女装 甜美 花边 修身 春装 \\n\n",
       "工具           上海 铝合金 箱 定制 黑色 手提箱 工具 收纳 箱 样品 模型 展示 箱 厂家直销 \\n\n",
       "裙子              儿童 夏威夷 草裙舞 裙子 成人 服装 套装 幼儿园 演出服 道具 环保 衣服 \\n\n",
       "吊灯                 吊灯 欧式 简约 北欧 现代 美式 田园 混 搭 装饰 客厅 布艺 灯具 \\n\n",
       "凳子                创意 个性 凳子 实木 方凳 矮凳 坐凳 换鞋 凳 客厅 茶几 复古 板凳 \\n\n",
       "眼镜框                       志明 眼镜 韩版 余文乐 同款 眼镜框 复古 平光镜 近视 \\n\n",
       "戒指              欧美 风格 时尚 潮流 饰品 厂家直销 复古 百搭 不 对称 水晶 花朵 戒指 \\n\n",
       "包包                 白色 包包 新款 韩版百 搭 斜挎包 链条 包 真皮 单肩 小 方 斜包 \\n\n",
       "用品          儿童 生日派对 装饰 布置 用品 宝宝 玩具 卡通 铝膜 宠物 铝箔 气球 走路 动物 \\n\n",
       "墙纸            厨房 防油 耐高温 墙纸 自 粘 浴室 卫生间 防水 壁纸 加厚 马赛克 瓷砖贴纸 \\n\n",
       "道具                        新款 热卖 木质 婚礼 拍摄 道具 摆件 婚礼 装饰 用品 \\n\n",
       "戒指              红宝石 戒指 925 纯银 镶嵌 红 碧玺 方形 彩色 宝石 欧美 时尚 新款 \\n\n",
       "手提包            新款 韩版 少女 甜美 大 蝴蝶结 手提包 复古 学生 手 拿 复古 女式 包包 \\n\n",
       "沙发         充气 水上 玩具 冲浪 气垫 拖拉 圈 飞鱼 摩托艇 海上 沙发 浮台 娱乐 成人 设备 \\n\n",
       "支架           大型 支架 游泳池 成人 户外 充气 水上 乐园 设备 西瓜 沙发 飞鱼 水上 玩具 \\n\n",
       "皮鞋                 特价 瑕疵 儿童 豆豆 鞋清货 男童 皮鞋 单鞋 真皮 童鞋 春秋 新款 \\n\n",
       "Length: 38994, dtype: object"
      ]
     },
     "execution_count": 66,
     "metadata": {},
     "output_type": "execute_result"
    }
   ],
   "source": [
    "pd.Series(X_dummy,Y_lines)"
   ]
  },
  {
   "cell_type": "code",
   "execution_count": null,
   "metadata": {},
   "outputs": [],
   "source": [
    "for i in range(len(X_dummy)):\n",
    "    for word in X_dummy[i].split():\n",
    "        if word in Y_lines:"
   ]
  },
  {
   "cell_type": "code",
   "execution_count": null,
   "metadata": {},
   "outputs": [],
   "source": []
  },
  {
   "cell_type": "code",
   "execution_count": null,
   "metadata": {},
   "outputs": [],
   "source": []
  },
  {
   "cell_type": "code",
   "execution_count": null,
   "metadata": {},
   "outputs": [],
   "source": []
  }
 ],
 "metadata": {
  "kernelspec": {
   "display_name": "Python 3",
   "language": "python",
   "name": "python3"
  },
  "language_info": {
   "codemirror_mode": {
    "name": "ipython",
    "version": 3
   },
   "file_extension": ".py",
   "mimetype": "text/x-python",
   "name": "python",
   "nbconvert_exporter": "python",
   "pygments_lexer": "ipython3",
   "version": "3.6.5"
  }
 },
 "nbformat": 4,
 "nbformat_minor": 2
}
