{
 "cells": [
  {
   "cell_type": "code",
   "execution_count": null,
   "metadata": {},
   "outputs": [],
   "source": [
    "import numpy as np\n",
    "import pandas as pd \n",
    "import jieba \n",
    "from sklearn.cross_validation import train_test_split\n",
    "X = open('./input/train_X.txt','r',encoding = 'utf8').readlines()\n",
    "Y = open('./input/train_Y.txt','r',encoding = 'utf8').readlines()\n",
    "for i in range(len(X)):\n",
    "    X[i] = X[i].strip('\\n')\n",
    "    Y[i] = Y[i].strip('\\n')\n",
    "jieba.load_userdict(Y)\n",
    "stopwords = [line.strip() for line in open('./input/stopword.txt', 'r', encoding='utf-8').readlines()] \n",
    "\n",
    "with open('分词拿去做word2vect.txt','w',encoding = 'utf8') as file:\n",
    "    for i in range(len(X)):\n",
    "        des = X[i].replace(' ','')\n",
    "        seg_list = jieba.lcut(des)\n",
    "        word_list = [] \n",
    "        for seg in seg_list:\n",
    "            if seg not in stopwords:\n",
    "                word_list.append(seg)\n",
    "        file.write((' ').join(word_list) +'\\n')\n",
    "\n",
    "from gensim.models import word2vec\n",
    "sentences = word2vec.Text8Corpus('分词拿去做word2vect.txt')\n",
    "model = word2vec.Word2Vec(sentences,size = 50,window = 4 ,min_count = 3)\n",
    "\n",
    "## 求每一条商品描述的word2vec均值\n",
    "\n",
    "X_word2vec = [] # 存放词向量的列表\n",
    "for line in range(len(X)):\n",
    "    sum = np.zeros((1,50))\n",
    "    words = X[line].split()\n",
    "    num = 1\n",
    "    for word in words:\n",
    "        try:\n",
    "            temp = model[word]\n",
    "        except:\n",
    "            continue\n",
    "        else:\n",
    "            temp = temp.reshape((1,50))\n",
    "            sum += temp\n",
    "            num = num+1\n",
    "    if num > 1:\n",
    "        num -= 1\n",
    "    sum /= num\n",
    "    X_word2vec.append(list(sum[0]))\n",
    "\n",
    "X_train,X_test,Y_train,Y_test = train_test_split(X_word2vec,Y,test_size = 0.2)\n",
    "\n",
    "from sklearn.svm import SVC\n",
    "clf = SVC()\n",
    "clf.fit(X_train,Y_train)\n",
    "y_pre = clf.predict(X_test)\n",
    "result = np.mean(y_pre==Y_test)\n",
    "\n"
   ]
  }
 ],
 "metadata": {
  "kernelspec": {
   "display_name": "Python 3",
   "language": "python",
   "name": "python3"
  },
  "language_info": {
   "codemirror_mode": {
    "name": "ipython",
    "version": 3
   },
   "file_extension": ".py",
   "mimetype": "text/x-python",
   "name": "python",
   "nbconvert_exporter": "python",
   "pygments_lexer": "ipython3",
   "version": "3.6.5"
  }
 },
 "nbformat": 4,
 "nbformat_minor": 2
}
